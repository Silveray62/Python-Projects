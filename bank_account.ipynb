{
  "nbformat": 4,
  "nbformat_minor": 0,
  "metadata": {
    "colab": {
      "provenance": []
    },
    "kernelspec": {
      "name": "python3",
      "display_name": "Python 3"
    },
    "language_info": {
      "name": "python"
    }
  },
  "cells": [
    {
      "cell_type": "code",
      "execution_count": null,
      "metadata": {
        "colab": {
          "base_uri": "https://localhost:8080/"
        },
        "id": "3R4zq8DWIwmT",
        "outputId": "7c459a94-eca7-4105-fe34-34e2182782c9"
      },
      "outputs": [
        {
          "output_type": "stream",
          "name": "stdout",
          "text": [
            "how much do you want to withdraw: 3000\n",
            "Your account balance is: 2000.0\n"
          ]
        }
      ],
      "source": [
        "class Account:\n",
        "  def __init__(self, account_holder, account_number, account_balance):\n",
        "        self.holder = account_holder\n",
        "        self.number = account_number\n",
        "        self.balance = account_balance\n",
        "  def deposit(self):\n",
        "      X = input('How much do you want to deposit: ')\n",
        "      float_x = float(X)\n",
        "      self.balance = float(self.balance) + float_x\n",
        "      print(f'Your account balance is: {self.balance}')\n",
        "  def withdraw(self):\n",
        "      Y = input('how much do you want to withdraw: ')\n",
        "      float_Y = float(Y)\n",
        "      if float_Y > float(self.balance):\n",
        "        print('insufficient funds')\n",
        "      else:\n",
        "        self.balance = float(self.balance) - float_Y\n",
        "      print(f'Your account balance is: {self.balance}')\n",
        "  def check_balance(self):\n",
        "      print(f'Your account balance is: {self.balance}')\n",
        "player_one = Account('Damola', 11818449, 5000.00)\n",
        "player_one.withdraw()"
      ]
    },
    {
      "cell_type": "code",
      "source": [
        "player_one.deposit()"
      ],
      "metadata": {
        "colab": {
          "base_uri": "https://localhost:8080/"
        },
        "id": "I394gKWwSBwK",
        "outputId": "6e41a93e-c46d-4cd1-cfe0-a4e582eaf065"
      },
      "execution_count": null,
      "outputs": [
        {
          "output_type": "stream",
          "name": "stdout",
          "text": [
            "How much do you want to deposit: 5000\n",
            "Your account balance is: 7000.0\n"
          ]
        }
      ]
    },
    {
      "cell_type": "code",
      "source": [
        "player_one.check_balance()"
      ],
      "metadata": {
        "colab": {
          "base_uri": "https://localhost:8080/"
        },
        "id": "BN4RlThOYaCw",
        "outputId": "634b5139-25fe-49ca-82e7-a3535c134ccc"
      },
      "execution_count": null,
      "outputs": [
        {
          "output_type": "stream",
          "name": "stdout",
          "text": [
            "Your account balance is: 7000.0\n"
          ]
        }
      ]
    }
  ]
}
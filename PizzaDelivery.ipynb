{
  "nbformat": 4,
  "nbformat_minor": 0,
  "metadata": {
    "colab": {
      "provenance": []
    },
    "kernelspec": {
      "name": "python3",
      "display_name": "Python 3"
    },
    "language_info": {
      "name": "python"
    }
  },
  "cells": [
    {
      "cell_type": "markdown",
      "source": [
        "Congratulations, you've got a job at Python Pizza. Your first job is to build an automatic pizza order program. Based on a user's order, work out their final bill.\n",
        "\n",
        " ``` Small Pizza: $15 ``` ```\n",
        "\n",
        "``` Medium Pizza: $20 ```\n",
        "\n",
        "``` Large Pizza: $25 ```\n",
        "\n",
        "If they want to add pepperoni :\n",
        "\n",
        "``` Pepperoni for Small Pizza: +$2 ```\n",
        "\n",
        "``` Pepperoni for Medium or Large Pizza: +$3 ```\n",
        "\n",
        "If they want cheese :\n",
        "\n",
        " ``` Extra cheese for any size pizza: + $1 ```\n",
        "\n",
        "\n",
        "Instructions\n",
        "\n",
        "Open a new file in your Python development environment or IDE.\n",
        "Begin by typing the line 'Welcome to Python Pizza Deliveries' which will display a welcome message when the code is run.\n",
        "Add a line that prompts the user for the size of the pizza they want using the input() function and stores the user's input in a variable named 'size'.\n",
        "Add a line that prompts the user if they want pepperoni on their pizza using the input() function and stores the user's input in a variable named 'add_pepperoni'.\n",
        "Add a line that prompts the user if they want extra cheese on their pizza using the input() function and stores the user's input in a variable named 'extra_cheese'.\n",
        "Check your code for any syntax errors or mistakes.\n",
        "Run the code and test it by providing inputs for size, pepperoni, and extra cheese.\n",
        "Example Input\n",
        "\n",
        "size = \"L\"\n",
        "\n",
        "add_pepperoni = \"Y\"\n",
        "\n",
        "extra_cheese = \"N\"\n",
        "\n",
        "Example Output\n",
        "\n",
        "Your final bill is: $28.\n",
        "\n",
        "When you hit **run**, this is what should happen"
      ],
      "metadata": {
        "id": "zkarDRag9LsD"
      }
    },
    {
      "cell_type": "code",
      "source": [
        "print(\"Welcome to Python Pizza Deliveries!\")\n",
        "print(\"Welcome to Python Pizza Deliveries!\")\n",
        "size = input(f'what size pizza do you want? S, M, or L ')\n",
        "add_pepperoni = input('Do you want pepperoni? Y or N ')\n",
        "extra_cheese = input('Do you want extra cheese? Y or N ')\n",
        "\n",
        "bill = 0\n",
        "if size == 'S':\n",
        "  bill += 15\n",
        "elif size == 'M':\n",
        "  bill += 20\n",
        "else:\n",
        "  bill += 25\n",
        "\n",
        "if add_pepperoni.casefold == 'Y':\n",
        "  if size == 'S':\n",
        "    bill += 2\n",
        "  else:\n",
        "    bill += 3\n",
        "\n",
        "if extra_cheese == 'Y':\n",
        "  bill += 1\n",
        "\n",
        "print(f'Your final bill is: ${bill}.')"
      ],
      "metadata": {
        "colab": {
          "base_uri": "https://localhost:8080/"
        },
        "id": "1YMzzduT9RJj",
        "outputId": "212ed607-ab89-4aa2-e1c1-aa3462fd614e"
      },
      "execution_count": null,
      "outputs": [
        {
          "output_type": "stream",
          "name": "stdout",
          "text": [
            "Welcome to Python Pizza Deliveries!\n",
            "Welcome to Python Pizza Deliveries!\n",
            "what size pizza do you want? S, M, or L M\n",
            "Do you want pepperoni? Y or N y\n",
            "Do you want extra cheese? Y or N Y\n",
            "Your final bill is: $21.\n"
          ]
        }
      ]
    }
  ]
}
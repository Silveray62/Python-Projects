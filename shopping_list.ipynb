{
  "cells": [
    {
      "cell_type": "markdown",
      "metadata": {
        "id": "rlAybTHQwh2p"
      },
      "source": [
        "What You're Aiming For\n",
        "\n",
        "Create a program that allows the user to manage their shopping list. The user should be able to add items to the list, remove items, and view the current list of items.\n",
        "\n",
        "\n",
        "Instructions\n",
        "\n",
        "Statement:\n",
        "\n",
        "Create a list to store the shopping items\n",
        "Use a while loop to create a menu of options for the user to add, remove, or view items from the list\n",
        "Use a for loop to iterate through the list of items and display them to the user\n",
        "Use the range() function to limit the number of items that can be added to the list\n",
        "Use the list, tuple, set, and dictionary data structures to store and manipulate the shopping items\n",
        "Instructions:\n",
        "\n",
        "Create a list named 'shopping_list' to store the items.\n",
        "Use a while loop to create a menu of options for the user to add, remove, or view items from the list.\n",
        "Use the input() function to prompt the user to make a selection from the menu.\n",
        "Use an if-elif-else block to determine the user's selection and perform the corresponding action.\n",
        "If the user selects 'add', use the input() function to prompt the user to enter an item to add to the list. Use the range() function to limit the number of items that can be added to the list.\n",
        "If the user selects 'remove', use the input() function to prompt the user to enter an item to remove from the list.\n",
        "If the user selects 'view', use a for loop to iterate through the list of items and display them to the user.\n",
        "Use the list, tuple, set, and dictionary data structures to store and manipulate the shopping items."
      ]
    },
    {
      "cell_type": "code",
      "execution_count": null,
      "metadata": {
        "colab": {
          "background_save": true,
          "base_uri": "https://localhost:8080/"
        },
        "id": "LhwLb1dgwjL9",
        "outputId": "ecd3b478-0ce3-49d3-c72c-9a7900ccef83"
      },
      "outputs": [
        {
          "name": "stdout",
          "output_type": "stream",
          "text": [
            "\n",
            "Shopping List Menu:\n",
            "1. Add item\n",
            "2. Remove item\n",
            "3. View items\n",
            "4. Exit\n",
            "Item added to the list.\n",
            "\n",
            "Shopping List Menu:\n",
            "1. Add item\n",
            "2. Remove item\n",
            "3. View items\n",
            "4. Exit\n",
            "Item added to the list.\n",
            "\n",
            "Shopping List Menu:\n",
            "1. Add item\n",
            "2. Remove item\n",
            "3. View items\n",
            "4. Exit\n",
            "Item added to the list.\n",
            "\n",
            "Shopping List Menu:\n",
            "1. Add item\n",
            "2. Remove item\n",
            "3. View items\n",
            "4. Exit\n",
            "Item added to the list.\n",
            "\n",
            "Shopping List Menu:\n",
            "1. Add item\n",
            "2. Remove item\n",
            "3. View items\n",
            "4. Exit\n",
            "Item added to the list.\n",
            "\n",
            "Shopping List Menu:\n",
            "1. Add item\n",
            "2. Remove item\n",
            "3. View items\n",
            "4. Exit\n",
            "List is full. Cannot add more items.\n",
            "\n",
            "Shopping List Menu:\n",
            "1. Add item\n",
            "2. Remove item\n",
            "3. View items\n",
            "4. Exit\n"
          ]
        }
      ],
      "source": [
        "from re import X\n",
        "from os import remove\n",
        "shopping_list = []\n",
        "def display_menue():\n",
        "    print(\"\\nShopping List Menu:\")\n",
        "    print(\"1. Add item\")\n",
        "    print(\"2. Remove item\")\n",
        "    print(\"3. View items\")\n",
        "    print(\"4. Exit\")\n",
        "while True:\n",
        "    display_menue()\n",
        "    choice = input(\"Enter your choice: \")\n",
        "    if choice == \"1\":\n",
        "      if len(shopping_list) < 5:\n",
        "        X = input(\"Enter item to add: \")\n",
        "        shopping_list.append(X)\n",
        "        print(\"Item added to the list.\")\n",
        "      else:\n",
        "          print(\"List is full. Cannot add more items.\")\n",
        "    elif choice == \"2\":\n",
        "      Y = input(\"Enter item to remove: \")\n",
        "      shopping_list.remove(Y)\n",
        "      print(\"Item removed from the list.\")\n",
        "    elif choice == \"3\":\n",
        "      print(shopping_list)\n",
        "    elif choice == \"4\":\n",
        "      print(\"Exiting program.\")\n",
        "      break\n",
        "    else:\n",
        "      print(\"Invalid choice. Please try again.\")"
      ]
    }
  ],
  "metadata": {
    "colab": {
      "provenance": []
    },
    "kernelspec": {
      "display_name": "Python 3",
      "name": "python3"
    },
    "language_info": {
      "name": "python"
    }
  },
  "nbformat": 4,
  "nbformat_minor": 0
}
{
 "cells": [
  {
   "cell_type": "raw",
   "id": "694bc1d2-b8ba-48d6-93a8-fee9913afc66",
   "metadata": {},
   "source": [
    "Create a numpy array called \"grades\" that contains the following grades: [85, 90, 88, 92, 95, 80, 75, 98, 89, 83]\n",
    "\n",
    "\n",
    "Instructions\n",
    "\n",
    "Create a new file called \"grades_analysis.py\"\n",
    "Import the numpy library and create the \"grades\" array as specified above.\n",
    "Use numpy functions to calculate the mean, median, and standard deviation of the grades.\n",
    "Use numpy function to find the maximum and minimum of the grades.\n",
    "Use numpy function to sort the grades in ascending order.\n",
    "Use numpy function to find the index of the highest grade in the array.\n",
    "Use numpy function to count the number of students who scored above 90.\n",
    "Use numpy function to calculate the percentage of students who scored above 90.\n",
    "Use numpy function to calculate the percentage of students who scored below 75.\n",
    "Use numpy function to extract all the grades above 90 and put them in a new array called \"high_performers\".\n",
    "Create a new array called \"passing_grades\" that contains all the grades above 75.\n",
    "Print the result of all the above steps.\n",
    "Note:\n",
    "\n",
    "to calculate percentage use numpy.mean(grades > 90) * 100\n",
    "to extract the grades above 90 use grades[grades > 90]\n",
    "to extract the grades above 75 use grades[grades > 75]\n",
    "You can use other numpy functions as well to analyze the data as you want. The above steps are just examples of what can be done."
   ]
  },
  {
   "cell_type": "code",
   "execution_count": 10,
   "id": "aaf97a95-9b1f-42d4-ba8e-8defd1dcb6b0",
   "metadata": {},
   "outputs": [],
   "source": [
    "grades = [85, 90, 88, 92, 95, 80, 75, 98, 89, 83]"
   ]
  },
  {
   "cell_type": "code",
   "execution_count": 8,
   "id": "99db59e3-c70c-4b03-95a7-dab8517541e6",
   "metadata": {},
   "outputs": [],
   "source": [
    "import numpy as np"
   ]
  },
  {
   "cell_type": "code",
   "execution_count": 26,
   "id": "7c8ac67c-5de3-458e-bce5-e73be5d187f2",
   "metadata": {},
   "outputs": [],
   "source": [
    "grades_array = np.array(grades)"
   ]
  },
  {
   "cell_type": "code",
   "execution_count": 40,
   "id": "f5d961d5-7a38-44a9-951c-17505f7daa9e",
   "metadata": {},
   "outputs": [],
   "source": [
    "mean = np.mean(grades_array)\n",
    "median = np.median(grades_array)\n",
    "std = np.std(grades_array)\n",
    "maximum = np.max(grades_array)\n",
    "minimum = np.min(grades_array)\n",
    "sort = np.sort(grades_array)\n",
    "index = np.argmax(grades_array)\n",
    "high_performers = grades_array[grades_array > 90]\n",
    "abv_90 = len(high_performers)\n",
    "percentage_abv_90 = np.mean(grades_array > 90)*100\n",
    "percentage_below_75 = np.mean(grades_array < 75)*100\n",
    "passing_grades = grades_array[grades_array > 75]\n",
    "\n"
   ]
  },
  {
   "cell_type": "code",
   "execution_count": 76,
   "id": "f23e3e9d-4c31-4062-8e16-419712b89579",
   "metadata": {},
   "outputs": [
    {
     "name": "stdout",
     "output_type": "stream",
     "text": [
      "\n",
      " mean: 87.5 \n",
      " median: 88.5 \n",
      " standard deviation: 6.591661399070799 \n",
      " Maximum: 98 \n",
      " Minimum 75 \n",
      " Grades in ascending order: [75 80 83 85 88 89 90 92 95 98] \n",
      " index of the highest grade: 7 \n",
      " number of students who scored above 90: 3 \n",
      " Percentage of students who scored above 90: 30.0 \n",
      " Percentage of students who scored below 75: 0.0 \n",
      " high performers: [92 95 98] \n",
      " passing grades [85 90 88 92 95 80 98 89 83]\n"
     ]
    }
   ],
   "source": [
    "print('\\n', 'mean:', mean, \"\\n\", 'median:', median, '\\n', 'standard deviation:', std, '\\n', 'Maximum:', maximum, '\\n', 'Minimum', minimum, '\\n', 'Grades in ascending order:', sort, '\\n', 'index of the highest grade:', index, '\\n', 'number of students who scored above 90:', abv_90, '\\n', 'Percentage of students who scored above 90:', percentage_abv_90, '\\n', 'Percentage of students who scored below 75:', percentage_below_75, '\\n', 'high performers:', high_performers, '\\n', 'passing grades', passing_grades)"
   ]
  }
 ],
 "metadata": {
  "kernelspec": {
   "display_name": "Python 3 (ipykernel)",
   "language": "python",
   "name": "python3"
  },
  "language_info": {
   "codemirror_mode": {
    "name": "ipython",
    "version": 3
   },
   "file_extension": ".py",
   "mimetype": "text/x-python",
   "name": "python",
   "nbconvert_exporter": "python",
   "pygments_lexer": "ipython3",
   "version": "3.12.7"
  }
 },
 "nbformat": 4,
 "nbformat_minor": 5
}
